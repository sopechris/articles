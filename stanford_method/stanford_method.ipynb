{
 "cells": [
  {
   "cell_type": "code",
   "execution_count": null,
   "id": "d853e882-4a35-46dd-8f4e-126df1b4b4e4",
   "metadata": {},
   "outputs": [],
   "source": [
    "import pandas as pd\n",
    "import numpy as np\n",
    "import matplotlib.pyplot as plt\n",
    "import seaborn as sns\n",
    "import os\n",
    "from datetime import datetime, timedelta\n",
    "from dateutil.relativedelta import relativedelta\n"
   ]
  },
  {
   "cell_type": "markdown",
   "id": "070f4a69-854b-4284-b82e-cb2038c477dd",
   "metadata": {},
   "source": [
    "## STANFORD METHOD"
   ]
  },
  {
   "cell_type": "markdown",
   "id": "1f4bedb5-7371-4fc4-9e5e-ed3c21863268",
   "metadata": {},
   "source": [
    "Import the files:"
   ]
  },
  {
   "cell_type": "code",
   "execution_count": null,
   "id": "55f3226f",
   "metadata": {},
   "outputs": [],
   "source": [
    "CGM_FILE = 'CGM.csv'\n",
    "INSULIN_FILE = 'Insulin.csv'\n",
    "\n",
    "def load_data(cgm_file, insulin_file):\n",
    "    \"\"\"\n",
    "    Load CGM and insulin data from CSV files.\n",
    "    \"\"\"\n",
    "    cgm_data = pd.read_csv(cgm_file, parse_dates=['Time'])\n",
    "    insulin_data = pd.read_csv(insulin_file, parse_dates=['Time'])\n",
    "    \n",
    "    return cgm_data, insulin_data\n",
    "\n",
    "load_data(CGM_FILE, INSULIN_FILE)"
   ]
  },
  {
   "cell_type": "markdown",
   "id": "a27a4571",
   "metadata": {},
   "source": [
    "First identify correction boluses"
   ]
  },
  {
   "cell_type": "code",
   "execution_count": null,
   "id": "fd120924-526b-4fed-8b48-31544fbe93ba",
   "metadata": {},
   "outputs": [
    {
     "name": "stdout",
     "output_type": "stream",
     "text": [
      "IDENTIFIED CORRECTION BOLUSES (CGM>300)\n",
      "---------------------------------------\n",
      "                     insulin  bolus_insulin  insulin_from_delayed         day  \\\n",
      "2022-01-28 22:20:24    400.0          400.0                   0.0  2022-01-28   \n",
      "2022-02-07 16:02:29    450.0          450.0                   0.0  2022-02-07   \n",
      "2022-02-10 22:53:53    400.0          400.0                   0.0  2022-02-10   \n",
      "2022-02-13 10:51:48    450.0          450.0                   0.0  2022-02-13   \n",
      "2022-02-13 19:54:58    600.0          600.0                   0.0  2022-02-13   \n",
      "\n",
      "                     cgm_before_300  \n",
      "2022-01-28 22:20:24           319.0  \n",
      "2022-02-07 16:02:29           373.0  \n",
      "2022-02-10 22:53:53           330.0  \n",
      "2022-02-13 10:51:48           341.0  \n",
      "2022-02-13 19:54:58           321.0  \n",
      "\n",
      "IDENTIFIED CORRECTION BOLUSES (CGM>250)\n",
      "---------------------------------------\n",
      "                     insulin  bolus_insulin  insulin_from_delayed         day  \\\n",
      "2022-01-16 14:27:53    200.0          200.0                   0.0  2022-01-16   \n",
      "2022-01-21 11:12:12    400.0          400.0                   0.0  2022-01-21   \n",
      "2022-01-21 16:58:25    400.0          400.0                   0.0  2022-01-21   \n",
      "2022-01-22 04:54:41    400.0          400.0                   0.0  2022-01-22   \n",
      "2022-01-24 16:21:31    300.0          300.0                   0.0  2022-01-24   \n",
      "2022-01-27 10:51:10    300.0          300.0                   0.0  2022-01-27   \n",
      "2022-01-28 22:20:24    400.0          400.0                   0.0  2022-01-28   \n",
      "2022-02-06 20:19:12    300.0          300.0                   0.0  2022-02-06   \n",
      "2022-02-07 16:02:29    450.0          450.0                   0.0  2022-02-07   \n",
      "2022-02-10 22:53:53    400.0          400.0                   0.0  2022-02-10   \n",
      "2022-02-11 07:44:50   1200.0         1200.0                   0.0  2022-02-11   \n",
      "2022-02-12 04:35:53    200.0          200.0                   0.0  2022-02-12   \n",
      "2022-02-12 13:17:44    300.0          300.0                   0.0  2022-02-12   \n",
      "2022-02-13 06:36:01    300.0          300.0                   0.0  2022-02-13   \n",
      "2022-02-13 10:51:48    450.0          450.0                   0.0  2022-02-13   \n",
      "2022-02-13 19:54:58    600.0          600.0                   0.0  2022-02-13   \n",
      "2022-02-14 07:51:50   1200.0         1200.0                   0.0  2022-02-14   \n",
      "\n",
      "                     cgm_before_250  \n",
      "2022-01-16 14:27:53           286.0  \n",
      "2022-01-21 11:12:12           282.0  \n",
      "2022-01-21 16:58:25           298.0  \n",
      "2022-01-22 04:54:41           292.0  \n",
      "2022-01-24 16:21:31           282.0  \n",
      "2022-01-27 10:51:10           265.0  \n",
      "2022-01-28 22:20:24           319.0  \n",
      "2022-02-06 20:19:12           256.0  \n",
      "2022-02-07 16:02:29           373.0  \n",
      "2022-02-10 22:53:53           330.0  \n",
      "2022-02-11 07:44:50           296.0  \n",
      "2022-02-12 04:35:53           266.0  \n",
      "2022-02-12 13:17:44           261.0  \n",
      "2022-02-13 06:36:01           256.0  \n",
      "2022-02-13 10:51:48           341.0  \n",
      "2022-02-13 19:54:58           321.0  \n",
      "2022-02-14 07:51:50           261.0  \n"
     ]
    }
   ],
   "source": [
    "CGM_filtered_250=cgm_data[cgm_data['glucose']>250]\n",
    "CGM_filtered_300=cgm_data[cgm_data['glucose']>300]\n",
    "\n",
    "if 'timestamp' not in CGM_filtered_250.columns:\n",
    "    CGM_filtered_250 = CGM_filtered_250.reset_index()\n",
    "\n",
    "if 'timestamp' not in CGM_filtered_300.columns:\n",
    "    CGM_filtered_300 = CGM_filtered_300.reset_index()\n",
    "\n",
    "CGM_filtered_250 = CGM_filtered_250.copy()\n",
    "CGM_filtered_300 = CGM_filtered_300.copy()\n",
    "\n",
    "\n",
    "CGM_filtered_250['timestamp'] = pd.to_datetime(CGM_filtered_250['timestamp'])\n",
    "CGM_filtered_300['timestamp'] = pd.to_datetime(CGM_filtered_300['timestamp'])\n",
    "\n",
    "if CGM_filtered_250.index.name != 'timestamp':\n",
    "    CGM_filtered_250 = CGM_filtered_250.set_index('timestamp')\n",
    "\n",
    "if CGM_filtered_300.index.name != 'timestamp':\n",
    "    CGM_filtered_300 = CGM_filtered_300.set_index('timestamp')\n",
    "\n",
    "def bolus_between_CGM(cgm_data, bolus_timestamp):\n",
    "    cgm_before = cgm_data[cgm_data.index < bolus_timestamp].tail(1)\n",
    "    cgm_after = cgm_data[cgm_data.index > bolus_timestamp].head(1)\n",
    "    \n",
    "    if not cgm_before.empty and not cgm_after.empty:\n",
    "        return cgm_before, cgm_after\n",
    "    else:\n",
    "        return None, None\n",
    "\n",
    "insulin_data_cleaned = insulin_data.dropna(subset=['bolus_insulin']).copy()\n",
    "insulin_data_cleaned['timestamp'] = pd.to_datetime(insulin_data_cleaned['timestamp'])\n",
    "insulin_data_cleaned = insulin_data_cleaned.drop(columns=['infused','minutes','Unnamed: 0','delayed_insulin', 'duration'])\n",
    "insulin_data_cleaned.set_index('timestamp', inplace=True)\n",
    "correction_bolus_1 = pd.DataFrame()\n",
    "correction_bolus_2 = pd.DataFrame()\n",
    "cgm_before_300_acc = []\n",
    "cgm_before_250_acc = []\n",
    "\n",
    "if not insulin_data_cleaned.empty:\n",
    "    for idx, bolus in insulin_data_cleaned.iterrows():\n",
    "        bolus_timestamp = bolus.name  \n",
    "        cgm_before, cgm_after = bolus_between_CGM(cgm_data, bolus_timestamp)\n",
    "        if cgm_before is not None and not cgm_before.empty and cgm_after is not None and not cgm_after.empty:\n",
    "            if cgm_before['glucose'].iloc[-1] >300 and cgm_after['glucose'].iloc[-1] >300:\n",
    "                correction_bolus_1 = pd.concat([correction_bolus_1, pd.DataFrame([bolus])], ignore_index=False)\n",
    "                cgm_before_300_acc.append(cgm_before['glucose'].iloc[-1])\n",
    "        if cgm_before is not None and not cgm_before.empty and cgm_after is not None and not cgm_after.empty:          \n",
    "            if cgm_before['glucose'].iloc[-1] >250 and cgm_after['glucose'].iloc[-1] >250:\n",
    "                correction_bolus_2 = pd.concat([correction_bolus_2, pd.DataFrame([bolus])], ignore_index=False)\n",
    "                cgm_before_250_acc.append(cgm_before['glucose'].iloc[-1])\n",
    "            \n",
    "correction_bolus_1['cgm_before_300']=cgm_before_300_acc\n",
    "correction_bolus_2['cgm_before_250']=cgm_before_250_acc\n",
    "print('IDENTIFIED CORRECTION BOLUSES (CGM>300)')\n",
    "print('---------------------------------------')\n",
    "print(correction_bolus_1)\n",
    "print('')\n",
    "print('IDENTIFIED CORRECTION BOLUSES (CGM>250)')\n",
    "print('---------------------------------------')\n",
    "print(correction_bolus_2)\n",
    "\n",
    "    "
   ]
  },
  {
   "cell_type": "markdown",
   "id": "d8948a3f-4ec4-4665-bdd7-5cb6c124e3ae",
   "metadata": {},
   "source": [
    "Not decreasing 50mg/dL an hour after a correction bolus for a blood glucose level greater than 300mg/dL.\n",
    "Some patients over 250mg/dL, try both."
   ]
  },
  {
   "cell_type": "code",
   "execution_count": null,
   "id": "19465be0-a6db-4315-ab5f-9093ec58d48d",
   "metadata": {},
   "outputs": [
    {
     "name": "stdout",
     "output_type": "stream",
     "text": [
      "[datetime.date(2022, 2, 7), datetime.date(2022, 2, 13)]\n",
      "[datetime.date(2022, 1, 16), datetime.date(2022, 1, 24), datetime.date(2022, 1, 27), datetime.date(2022, 2, 7), datetime.date(2022, 2, 13), datetime.date(2022, 2, 14)]\n",
      "[Timestamp('2022-02-07 16:02:29'), Timestamp('2022-02-13 10:51:48')]\n",
      "[Timestamp('2022-01-16 14:27:53'), Timestamp('2022-01-24 16:21:31'), Timestamp('2022-01-27 10:51:10'), Timestamp('2022-02-07 16:02:29'), Timestamp('2022-02-13 10:51:48'), Timestamp('2022-02-14 07:51:50')]\n"
     ]
    }
   ],
   "source": [
    "stanford_failures_1 = []\n",
    "stanford_failures_2 = []\n",
    "\n",
    "for idx, correction in correction_bolus_1.iterrows():\n",
    "    hour_away = idx + timedelta(hours=1)\n",
    "    cgm_value = cgm_data.loc[cgm_data.index >= hour_away, 'glucose']\n",
    "    if not cgm_value.empty:\n",
    "        if cgm_value.iloc[0] < correction['cgm_before_300'] - 50:\n",
    "            stanford_failures_1.append(idx)\n",
    "\n",
    "for idx, correction in correction_bolus_2.iterrows():\n",
    "    hour_away = idx + timedelta(hours=1)\n",
    "    cgm_value = cgm_data.loc[cgm_data.index >= hour_away, 'glucose']\n",
    "    if not cgm_value.empty:\n",
    "        if cgm_value.iloc[0] < correction['cgm_before_250'] - 50:\n",
    "            stanford_failures_2.append(idx)\n",
    "days_1 = [ts.date() for ts in stanford_failures_1]\n",
    "days_2 = [ts.date() for ts in stanford_failures_2]\n",
    "\n",
    "times_1 = [ts for ts in stanford_failures_1]\n",
    "times_2 = [ts for ts in stanford_failures_2]\n",
    "\n",
    "# Timestamps for the failures\n",
    "print('STANFORD FAILURES (CGM>300)')\n",
    "print('---------------------------------------')\n",
    "print(times_1)\n",
    "print('STANFORD FAILURES (CGM>250)')\n",
    "print('---------------------------------------')\n",
    "print(times_2)"
   ]
  }
 ],
 "metadata": {
  "kernelspec": {
   "display_name": "Python 3 (ipykernel)",
   "language": "python",
   "name": "python3"
  },
  "language_info": {
   "codemirror_mode": {
    "name": "ipython",
    "version": 3
   },
   "file_extension": ".py",
   "mimetype": "text/x-python",
   "name": "python",
   "nbconvert_exporter": "python",
   "pygments_lexer": "ipython3",
   "version": "3.11.7"
  }
 },
 "nbformat": 4,
 "nbformat_minor": 5
}
